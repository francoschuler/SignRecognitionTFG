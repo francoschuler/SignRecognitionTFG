{
 "cells": [
  {
   "cell_type": "markdown",
   "id": "2f8c77aa",
   "metadata": {},
   "source": [
    "Import dependecies and utilities"
   ]
  },
  {
   "cell_type": "code",
   "execution_count": 95,
   "id": "437725ca",
   "metadata": {},
   "outputs": [],
   "source": [
    "import cv2\n",
    "import numpy as np\n",
    "import os\n",
    "import matplotlib.pyplot as plt\n",
    "import time\n",
    "import mediapipe as mp"
   ]
  },
  {
   "cell_type": "markdown",
   "id": "90456b50",
   "metadata": {},
   "source": [
    "Webcam test"
   ]
  },
  {
   "cell_type": "code",
   "execution_count": 96,
   "id": "3bc1c4ff",
   "metadata": {},
   "outputs": [],
   "source": [
    "mp_holistic = mp.solutions.holistic\n",
    "mp_drawing = mp.solutions.drawing_utils"
   ]
  },
  {
   "cell_type": "code",
   "execution_count": 97,
   "id": "9fe6b9d8",
   "metadata": {},
   "outputs": [],
   "source": [
    "def detection(img, model):\n",
    "    img = cv2.cvtColor(img, cv2.COLOR_BGR2RGB) # Color conversion to RGB\n",
    "    img.flags.writeable = False\n",
    "    results = model.process(img) # Image process\n",
    "    img.flags.writeable = True\n",
    "    img = cv2.cvtColor(img, cv2.COLOR_RGB2BGR) # Back to original color (BGR)\n",
    "    return img, results\n",
    "    "
   ]
  },
  {
   "cell_type": "code",
   "execution_count": 114,
   "id": "85d4c65a",
   "metadata": {},
   "outputs": [],
   "source": [
    "def show_landmarks(img, results):\n",
    "    mp_drawing.draw_landmarks(\n",
    "        img, results.face_landmarks, mp_holistic.FACEMESH_TESSELATION,\n",
    "        mp_drawing.DrawingSpec(color=(80,110,10), thickness=1, circle_radius=1),\n",
    "        mp_drawing.DrawingSpec(color=(80,256,121), thickness=1, circle_radius=1)\n",
    "    )\n",
    "    mp_drawing.draw_landmarks(\n",
    "        img, results.pose_landmarks, mp_holistic.POSE_CONNECTIONS)\n",
    "    mp_drawing.draw_landmarks(\n",
    "        img, results.right_hand_landmarks, mp_holistic.HAND_CONNECTIONS)\n",
    "    mp_drawing.draw_landmarks(\n",
    "        img, results.left_hand_landmarks, mp_holistic.HAND_CONNECTIONS)"
   ]
  },
  {
   "cell_type": "code",
   "execution_count": 108,
   "id": "5d6ebc89",
   "metadata": {
    "scrolled": true
   },
   "outputs": [
    {
     "data": {
      "text/plain": [
       "frozenset({(0, 1),\n",
       "           (0, 4),\n",
       "           (1, 2),\n",
       "           (2, 3),\n",
       "           (3, 7),\n",
       "           (4, 5),\n",
       "           (5, 6),\n",
       "           (6, 8),\n",
       "           (9, 10),\n",
       "           (11, 12),\n",
       "           (11, 13),\n",
       "           (11, 23),\n",
       "           (12, 14),\n",
       "           (12, 24),\n",
       "           (13, 15),\n",
       "           (14, 16),\n",
       "           (15, 17),\n",
       "           (15, 19),\n",
       "           (15, 21),\n",
       "           (16, 18),\n",
       "           (16, 20),\n",
       "           (16, 22),\n",
       "           (17, 19),\n",
       "           (18, 20),\n",
       "           (23, 24),\n",
       "           (23, 25),\n",
       "           (24, 26),\n",
       "           (25, 27),\n",
       "           (26, 28),\n",
       "           (27, 29),\n",
       "           (27, 31),\n",
       "           (28, 30),\n",
       "           (28, 32),\n",
       "           (29, 31),\n",
       "           (30, 32)})"
      ]
     },
     "execution_count": 108,
     "metadata": {},
     "output_type": "execute_result"
    }
   ],
   "source": [
    "mp_holistic.POSE_CONNECTIONS"
   ]
  },
  {
   "cell_type": "code",
   "execution_count": 117,
   "id": "7cd6d902",
   "metadata": {},
   "outputs": [],
   "source": [
    "capture = cv2.VideoCapture(0)\n",
    "\n",
    "if capture.isOpened() is False: print(\"Camera is not available\")\n",
    "    \n",
    "with mp_holistic.Holistic(min_detection_confidence=0.5, min_tracking_confidence=0.5) as holistic: # Setting mediapipe model\n",
    "    while capture.isOpened():\n",
    "        \n",
    "        # Read frames and show them\n",
    "        _, frame = capture.read()\n",
    "        \n",
    "        # Model results prediction\n",
    "        img, results = detection(frame, holistic)\n",
    "        \n",
    "        # Show landmarks\n",
    "        show_landmarks(img, results)\n",
    "        \n",
    "        cv2.imshow(\"OpenCV video\", img)\n",
    "\n",
    "        if cv2.waitKey(1) == ord(\"q\"):\n",
    "            break\n",
    "    capture.release()\n",
    "    cv2.destroyAllWindows()"
   ]
  },
  {
   "cell_type": "code",
   "execution_count": null,
   "id": "3d748287",
   "metadata": {
    "scrolled": true
   },
   "outputs": [],
   "source": [
    "# The model will return nothing if face or hands are not being detected\n",
    "print(\"Num face landmarks =\", len(results.face_landmarks.landmark))\n",
    "print(\"Right hand landmarks type =\", type(results.right_hand_landmarks))\n",
    "print(\"Left hand landmarks type =\", type(results.left_hand_landmarks))\n",
    "\n",
    "# The pose model will return landmarks but their visibility value will be very low\n",
    "print(\"Num pose landmarks =\", len(results.pose_landmarks.landmark))"
   ]
  }
 ],
 "metadata": {
  "kernelspec": {
   "display_name": "Python 3 (ipykernel)",
   "language": "python",
   "name": "python3"
  },
  "language_info": {
   "codemirror_mode": {
    "name": "ipython",
    "version": 3
   },
   "file_extension": ".py",
   "mimetype": "text/x-python",
   "name": "python",
   "nbconvert_exporter": "python",
   "pygments_lexer": "ipython3",
   "version": "3.9.1"
  }
 },
 "nbformat": 4,
 "nbformat_minor": 5
}
