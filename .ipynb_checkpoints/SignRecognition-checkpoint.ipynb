{
 "cells": [
  {
   "cell_type": "markdown",
   "id": "425803bf-77b2-4d1c-9c9f-f8a72c805b6d",
   "metadata": {},
   "source": [
    "Import dependencies"
   ]
  },
  {
   "cell_type": "code",
   "execution_count": 1,
   "id": "6b363bbd-073e-446b-bf0b-32b042e39751",
   "metadata": {},
   "outputs": [],
   "source": [
    "import cv2\n",
    "import numpy as np\n",
    "import os\n",
    "import matplotlib.pyplot as plt\n",
    "import time\n",
    "import mediapipe as mp"
   ]
  },
  {
   "cell_type": "markdown",
   "id": "05fedabf-39c3-4cdb-9074-cdab358d2705",
   "metadata": {},
   "source": [
    "Webcam test"
   ]
  },
  {
   "cell_type": "code",
   "execution_count": 4,
   "id": "937b2371-74dd-4231-ae32-79ab5a4dbe2b",
   "metadata": {},
   "outputs": [],
   "source": [
    "capture = cv2.VideoCapture(0)\n",
    "while capture.isOpened():\n",
    "\n",
    "  # Read frames and show them\n",
    "  _, frame = cap.read()\n",
    "  cv2.imshow(\"OpenCV video\", frame)\n",
    "\n",
    "  if cv2.waitKey(1) == ord(\"q\"):\n",
    "    break\n",
    "capture.release()\n",
    "cv2.destroyAllWindows()"
   ]
  }
 ],
 "metadata": {
  "kernelspec": {
   "display_name": "Python 3 (ipykernel)",
   "language": "python",
   "name": "python3"
  },
  "language_info": {
   "codemirror_mode": {
    "name": "ipython",
    "version": 3
   },
   "file_extension": ".py",
   "mimetype": "text/x-python",
   "name": "python",
   "nbconvert_exporter": "python",
   "pygments_lexer": "ipython3",
   "version": "3.9.1"
  }
 },
 "nbformat": 4,
 "nbformat_minor": 5
}
